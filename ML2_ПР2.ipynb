{
  "nbformat": 4,
  "nbformat_minor": 0,
  "metadata": {
    "colab": {
      "provenance": []
    },
    "kernelspec": {
      "name": "python3",
      "display_name": "Python 3"
    },
    "language_info": {
      "name": "python"
    }
  },
  "cells": [
    {
      "cell_type": "markdown",
      "source": [
        "![image.png](data:image/png;base64,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)"
      ],
      "metadata": {
        "id": "SsrYIREZ5YLJ"
      }
    },
    {
      "cell_type": "markdown",
      "source": [],
      "metadata": {
        "id": "a5ppMrfX5aaP"
      }
    },
    {
      "cell_type": "code",
      "source": [
        "import torch as th\n",
        "import torch.nn as nn\n",
        "import torch.optim as optim\n",
        "import torch.nn.functional as F\n",
        "from sklearn.model_selection import train_test_split\n",
        "import itertools\n",
        "import pandas as pd\n",
        "import numpy as np\n",
        "import matplotlib.pyplot as plt\n",
        "from tqdm.notebook import tqdm as tqdm\n",
        "\n",
        "import warnings\n",
        "warnings.filterwarnings('ignore')"
      ],
      "metadata": {
        "id": "7CCgJtkJ9Iwa"
      },
      "execution_count": 1,
      "outputs": []
    },
    {
      "cell_type": "code",
      "source": [
        "import torchvision.datasets\n",
        "\n",
        "MNIST_train = torchvision.datasets.FashionMNIST('./', download = True, train = True)\n",
        "MNIST_test = torchvision.datasets.FashionMNIST('./', download = True, train = False)\n",
        "\n",
        "X_train = MNIST_train.train_data\n",
        "y_train = MNIST_train.train_labels\n",
        "X_test = MNIST_test.test_data\n",
        "y_test = MNIST_test.test_labels\n",
        "\n",
        "X_train = X_train.float()\n",
        "X_test = X_test.float()\n",
        "\n",
        "X_train.shape, X_test.shape"
      ],
      "metadata": {
        "colab": {
          "base_uri": "https://localhost:8080/"
        },
        "id": "upF5PFDmCG7j",
        "outputId": "8c171332-97a1-43b8-e1a9-b71f065d62b8"
      },
      "execution_count": 2,
      "outputs": [
        {
          "output_type": "stream",
          "name": "stdout",
          "text": [
            "Downloading http://fashion-mnist.s3-website.eu-central-1.amazonaws.com/train-images-idx3-ubyte.gz\n",
            "Downloading http://fashion-mnist.s3-website.eu-central-1.amazonaws.com/train-images-idx3-ubyte.gz to ./FashionMNIST/raw/train-images-idx3-ubyte.gz\n"
          ]
        },
        {
          "output_type": "stream",
          "name": "stderr",
          "text": [
            "100%|██████████| 26421880/26421880 [00:01<00:00, 14631795.80it/s]\n"
          ]
        },
        {
          "output_type": "stream",
          "name": "stdout",
          "text": [
            "Extracting ./FashionMNIST/raw/train-images-idx3-ubyte.gz to ./FashionMNIST/raw\n",
            "\n",
            "Downloading http://fashion-mnist.s3-website.eu-central-1.amazonaws.com/train-labels-idx1-ubyte.gz\n",
            "Downloading http://fashion-mnist.s3-website.eu-central-1.amazonaws.com/train-labels-idx1-ubyte.gz to ./FashionMNIST/raw/train-labels-idx1-ubyte.gz\n"
          ]
        },
        {
          "output_type": "stream",
          "name": "stderr",
          "text": [
            "100%|██████████| 29515/29515 [00:00<00:00, 309672.24it/s]\n"
          ]
        },
        {
          "output_type": "stream",
          "name": "stdout",
          "text": [
            "Extracting ./FashionMNIST/raw/train-labels-idx1-ubyte.gz to ./FashionMNIST/raw\n",
            "\n",
            "Downloading http://fashion-mnist.s3-website.eu-central-1.amazonaws.com/t10k-images-idx3-ubyte.gz\n",
            "Downloading http://fashion-mnist.s3-website.eu-central-1.amazonaws.com/t10k-images-idx3-ubyte.gz to ./FashionMNIST/raw/t10k-images-idx3-ubyte.gz\n"
          ]
        },
        {
          "output_type": "stream",
          "name": "stderr",
          "text": [
            "100%|██████████| 4422102/4422102 [00:04<00:00, 1061370.17it/s]\n"
          ]
        },
        {
          "output_type": "stream",
          "name": "stdout",
          "text": [
            "Extracting ./FashionMNIST/raw/t10k-images-idx3-ubyte.gz to ./FashionMNIST/raw\n",
            "\n",
            "Downloading http://fashion-mnist.s3-website.eu-central-1.amazonaws.com/t10k-labels-idx1-ubyte.gz\n",
            "Downloading http://fashion-mnist.s3-website.eu-central-1.amazonaws.com/t10k-labels-idx1-ubyte.gz to ./FashionMNIST/raw/t10k-labels-idx1-ubyte.gz\n"
          ]
        },
        {
          "output_type": "stream",
          "name": "stderr",
          "text": [
            "100%|██████████| 5148/5148 [00:00<00:00, 11050295.29it/s]\n"
          ]
        },
        {
          "output_type": "stream",
          "name": "stdout",
          "text": [
            "Extracting ./FashionMNIST/raw/t10k-labels-idx1-ubyte.gz to ./FashionMNIST/raw\n",
            "\n"
          ]
        },
        {
          "output_type": "execute_result",
          "data": {
            "text/plain": [
              "(torch.Size([60000, 28, 28]), torch.Size([10000, 28, 28]))"
            ]
          },
          "metadata": {},
          "execution_count": 2
        }
      ]
    },
    {
      "cell_type": "code",
      "source": [
        "import matplotlib.pyplot as plt\n",
        "plt.imshow(X_train[7, :, :])\n",
        "plt.show()\n",
        "print(y_train[7])"
      ],
      "metadata": {
        "colab": {
          "base_uri": "https://localhost:8080/",
          "height": 447
        },
        "id": "CnbwA54dCqdd",
        "outputId": "8783c3c3-1e84-4b3b-83f6-c97664576d38"
      },
      "execution_count": 3,
      "outputs": [
        {
          "output_type": "display_data",
          "data": {
            "text/plain": [
              "<Figure size 640x480 with 1 Axes>"
            ],
            "image/png": "[encoded data removed]"
          },
          "metadata": {}
        },
        {
          "output_type": "stream",
          "name": "stdout",
          "text": [
            "tensor(2)\n"
          ]
        }
      ]
    },
    {
      "cell_type": "code",
      "source": [
        "X_train = X_train.reshape([-1, 28*28])\n",
        "X_test = X_test.reshape([-1, 28*28])\n",
        "\n",
        "print(X_train)"
      ],
      "metadata": {
        "colab": {
          "base_uri": "https://localhost:8080/"
        },
        "id": "58oU6SZwDCDY",
        "outputId": "6a1e150d-32b1-4a04-ef1b-bd98e8dea5ca"
      },
      "execution_count": 4,
      "outputs": [
        {
          "output_type": "stream",
          "name": "stdout",
          "text": [
            "tensor([[0., 0., 0.,  ..., 0., 0., 0.],\n",
            "        [0., 0., 0.,  ..., 0., 0., 0.],\n",
            "        [0., 0., 0.,  ..., 0., 0., 0.],\n",
            "        ...,\n",
            "        [0., 0., 0.,  ..., 0., 0., 0.],\n",
            "        [0., 0., 0.,  ..., 0., 0., 0.],\n",
            "        [0., 0., 0.,  ..., 0., 0., 0.]])\n"
          ]
        }
      ]
    },
    {
      "cell_type": "code",
      "source": [
        "class MNISTnet(th.nn.Module):\n",
        "  def __init__(self):\n",
        "    super (MNISTnet, self).__init__()\n",
        "    #Ваш_Код_Здесь\n",
        "\n",
        "    self.fc1 = th.nn.Linear(784, 128)\n",
        "    self.act1 = th.nn.ReLU()\n",
        "    self.drop = th.nn.Dropout(p=0.25)\n",
        "    self.fc2 = th.nn.Linear(128,64)\n",
        "    self.act2 = th.nn.ReLU()\n",
        "    self.fc3 = th.nn.Linear(64,10)\n",
        "    self.sm = th.nn.Softmax(dim=1)\n",
        "\n",
        "\n",
        "  def forward(self, x):\n",
        "    #Ваш_Код_Здесь\n",
        "\n",
        "    x = self.fc1(x)\n",
        "    x = self.act1(x)\n",
        "    x = self.drop(x)\n",
        "    x = self.fc2(x)\n",
        "    x = self.act2(x)\n",
        "    x = self.fc3(x)\n",
        "    x=self.sm(x)\n",
        "    return x\n",
        "\n",
        "\n",
        "  def predict(self,x):\n",
        "    #Ваш_Код_Здесь\n",
        "    x=self.forward(x)\n",
        "    print(x)\n",
        "    x=self.sm(x)\n",
        "    return x\n",
        "\n",
        "net = MNISTnet()"
      ],
      "metadata": {
        "id": "u6qOPGXNDfui"
      },
      "execution_count": 5,
      "outputs": []
    },
    {
      "cell_type": "code",
      "source": [
        "loss = th.nn.CrossEntropyLoss()"
      ],
      "metadata": {
        "id": "CPrsNyjxEBTP"
      },
      "execution_count": 6,
      "outputs": []
    },
    {
      "cell_type": "markdown",
      "source": [
        "#Momentum"
      ],
      "metadata": {
        "id": "AK1WO7l272-A"
      }
    },
    {
      "cell_type": "code",
      "source": [
        "opt = th.optim.SGD(net.parameters(), lr=0.01, momentum=0.9)"
      ],
      "metadata": {
        "id": "N4Z2bAug9BNw"
      },
      "execution_count": 7,
      "outputs": []
    },
    {
      "cell_type": "code",
      "source": [
        "batch_size = 784 # размер батча\n",
        "epochs = 25 #количество эпох\n",
        "\n",
        "train_losses = []\n",
        "test_losses = []\n",
        "\n",
        "'''данные тренировочной выборки будем перекладывать на cuda по батчам'''\n",
        "for epoch in range(epochs):\n",
        "  test_preds = net.forward(X_test)\n",
        "  test_losses.append(loss(test_preds, y_test).cpu().detach().numpy())\n",
        "\n",
        "  order = np.random.permutation(len(X_train))\n",
        "  for start_index in range (0,len(X_train), batch_size):\n",
        "    #Ваш_Код_Здесь\n",
        "    #далее вырезаем куски датасета длинной batch_size\n",
        "    opt.zero_grad()\n",
        "\n",
        "    batch_index = order[start_index:start_index+batch_size]#из этого порядка вычисляем некоторые подмножества\n",
        "    #начиная с start_index, который будет 0, 10, 20 и тд. + batch_size\n",
        "    #то есть batch_index - это индексы, которые соотвествуют текущему батчу\n",
        "    #таким образом мы в эпохе проходим все значения в датасете, но итерация обучения происходит по 10 элементам\n",
        "\n",
        "    X_batch = X_train[batch_index]\n",
        "    y_batch = y_train[batch_index]\n",
        "\n",
        "    preds = net.forward(X_batch)\n",
        "    loss_val = loss(preds, y_batch)\n",
        "    if start_index==0:\n",
        "      train_losses.append(loss_val.cpu().detach().numpy())\n",
        "    loss_val.backward()\n",
        "\n",
        "    opt.step()\n",
        "\n",
        "\n",
        "  #test_preds = net.forward(X_test)\n",
        "  #test_losses.append(loss(test_preds, y_test).cpu().detach().numpy())\n",
        "\n",
        "  if epoch % 10 == 0:\n",
        "    test_preds = net.forward(X_test)\n",
        "    test_losses.append(loss(test_preds, y_test).cpu().detach().numpy())\n",
        "    test_preds = test_preds.argmax(dim=1)\n",
        "    print((test_preds == y_test).float().mean())"
      ],
      "metadata": {
        "colab": {
          "base_uri": "https://localhost:8080/"
        },
        "id": "0fH_a_o6JhOI",
        "outputId": "c3a36e9b-b8fd-477f-d554-cd47e90e86e0"
      },
      "execution_count": 8,
      "outputs": [
        {
          "output_type": "stream",
          "name": "stdout",
          "text": [
            "tensor(0.4540)\n",
            "tensor(0.6462)\n",
            "tensor(0.7409)\n"
          ]
        }
      ]
    },
    {
      "cell_type": "code",
      "source": [
        "train_losses = [float(i) for i in train_losses]\n",
        "test_losses = [float(i) for i in test_losses]\n",
        "x1 = np.arange(1, len(train_losses) + 1)\n",
        "x2 = np.arange(1, len(test_losses) + 1)\n",
        "\n",
        "plt.plot(x1, train_losses, label='train loss')\n",
        "plt.plot(x2, test_losses, label='test loss')\n",
        "plt.title('Model loss')\n",
        "plt.legend()\n",
        "plt.show()"
      ],
      "metadata": {
        "colab": {
          "base_uri": "https://localhost:8080/",
          "height": 452
        },
        "id": "LLzbntTlJx4u",
        "outputId": "d185826c-b2d1-4e73-e8c2-1d42bc17dad4"
      },
      "execution_count": 9,
      "outputs": [
        {
          "output_type": "display_data",
          "data": {
            "text/plain": [
              "<Figure size 640x480 with 1 Axes>"
            ],
            "image/png": "[encoded data removed]"
          },
          "metadata": {}
        }
      ]
    },
    {
      "cell_type": "code",
      "source": [
        "!pip install torchmetrics"
      ],
      "metadata": {
        "id": "qMVaU57yLvF3",
        "colab": {
          "base_uri": "https://localhost:8080/"
        },
        "outputId": "c3d58c6e-7e43-456b-ba99-f353f85014a4"
      },
      "execution_count": 10,
      "outputs": [
        {
          "output_type": "stream",
          "name": "stdout",
          "text": [
            "Collecting torchmetrics\n",
            "  Downloading torchmetrics-1.4.1-py3-none-any.whl.metadata (20 kB)\n",
            "Requirement already satisfied: numpy>1.20.0 in /usr/local/lib/python3.10/dist-packages (from torchmetrics) (1.26.4)\n",
            "Requirement already satisfied: packaging>17.1 in /usr/local/lib/python3.10/dist-packages (from torchmetrics) (24.1)\n",
            "Requirement already satisfied: torch>=1.10.0 in /usr/local/lib/python3.10/dist-packages (from torchmetrics) (2.4.0+cu121)\n",
            "Collecting lightning-utilities>=0.8.0 (from torchmetrics)\n",
            "  Downloading lightning_utilities-0.11.6-py3-none-any.whl.metadata (5.2 kB)\n",
            "Requirement already satisfied: setuptools in /usr/local/lib/python3.10/dist-packages (from lightning-utilities>=0.8.0->torchmetrics) (71.0.4)\n",
            "Requirement already satisfied: typing-extensions in /usr/local/lib/python3.10/dist-packages (from lightning-utilities>=0.8.0->torchmetrics) (4.12.2)\n",
            "Requirement already satisfied: filelock in /usr/local/lib/python3.10/dist-packages (from torch>=1.10.0->torchmetrics) (3.15.4)\n",
            "Requirement already satisfied: sympy in /usr/local/lib/python3.10/dist-packages (from torch>=1.10.0->torchmetrics) (1.13.2)\n",
            "Requirement already satisfied: networkx in /usr/local/lib/python3.10/dist-packages (from torch>=1.10.0->torchmetrics) (3.3)\n",
            "Requirement already satisfied: jinja2 in /usr/local/lib/python3.10/dist-packages (from torch>=1.10.0->torchmetrics) (3.1.4)\n",
            "Requirement already satisfied: fsspec in /usr/local/lib/python3.10/dist-packages (from torch>=1.10.0->torchmetrics) (2024.6.1)\n",
            "Requirement already satisfied: MarkupSafe>=2.0 in /usr/local/lib/python3.10/dist-packages (from jinja2->torch>=1.10.0->torchmetrics) (2.1.5)\n",
            "Requirement already satisfied: mpmath<1.4,>=1.1.0 in /usr/local/lib/python3.10/dist-packages (from sympy->torch>=1.10.0->torchmetrics) (1.3.0)\n",
            "Downloading torchmetrics-1.4.1-py3-none-any.whl (866 kB)\n",
            "\u001b[2K   \u001b[90m━━━━━━━━━━━━━━━━━━━━━━━━━━━━━━━━━━━━━━━━\u001b[0m \u001b[32m866.2/866.2 kB\u001b[0m \u001b[31m14.1 MB/s\u001b[0m eta \u001b[36m0:00:00\u001b[0m\n",
            "\u001b[?25hDownloading lightning_utilities-0.11.6-py3-none-any.whl (26 kB)\n",
            "Installing collected packages: lightning-utilities, torchmetrics\n",
            "Successfully installed lightning-utilities-0.11.6 torchmetrics-1.4.1\n"
          ]
        }
      ]
    },
    {
      "cell_type": "code",
      "source": [
        "from torchmetrics.classification import F1Score\n",
        "\n",
        "f1 = F1Score(task=\"multiclass\", num_classes=10)\n",
        "f1(preds, y_test)"
      ],
      "metadata": {
        "colab": {
          "base_uri": "https://localhost:8080/",
          "height": 321
        },
        "id": "aM_cLsdaLqCb",
        "outputId": "4ff23170-4465-44c1-fc7a-d6c02f17fb87"
      },
      "execution_count": 11,
      "outputs": [
        {
          "output_type": "error",
          "ename": "RuntimeError",
          "evalue": "The size of tensor a (416) must match the size of tensor b (10000) at non-singleton dimension 0",
          "traceback": [
            "\u001b[0;31m---------------------------------------------------------------------------\u001b[0m",
            "\u001b[0;31mRuntimeError\u001b[0m                              Traceback (most recent call last)",
            "\u001b[0;32m<ipython-input-11-484d30771a45>\u001b[0m in \u001b[0;36m<cell line: 4>\u001b[0;34m()\u001b[0m\n\u001b[1;32m      2\u001b[0m \u001b[0;34m\u001b[0m\u001b[0m\n\u001b[1;32m      3\u001b[0m \u001b[0mf1\u001b[0m \u001b[0;34m=\u001b[0m \u001b[0mF1Score\u001b[0m\u001b[0;34m(\u001b[0m\u001b[0mtask\u001b[0m\u001b[0;34m=\u001b[0m\u001b[0;34m\"multiclass\"\u001b[0m\u001b[0;34m,\u001b[0m \u001b[0mnum_classes\u001b[0m\u001b[0;34m=\u001b[0m\u001b[0;36m10\u001b[0m\u001b[0;34m)\u001b[0m\u001b[0;34m\u001b[0m\u001b[0;34m\u001b[0m\u001b[0m\n\u001b[0;32m----> 4\u001b[0;31m \u001b[0mf1\u001b[0m\u001b[0;34m(\u001b[0m\u001b[0mpreds\u001b[0m\u001b[0;34m,\u001b[0m \u001b[0my_test\u001b[0m\u001b[0;34m)\u001b[0m\u001b[0;34m\u001b[0m\u001b[0;34m\u001b[0m\u001b[0m\n\u001b[0m",
            "\u001b[0;32m/usr/local/lib/python3.10/dist-packages/torch/nn/modules/module.py\u001b[0m in \u001b[0;36m_wrapped_call_impl\u001b[0;34m(self, *args, **kwargs)\u001b[0m\n\u001b[1;32m   1551\u001b[0m             \u001b[0;32mreturn\u001b[0m \u001b[0mself\u001b[0m\u001b[0;34m.\u001b[0m\u001b[0m_compiled_call_impl\u001b[0m\u001b[0;34m(\u001b[0m\u001b[0;34m*\u001b[0m\u001b[0margs\u001b[0m\u001b[0;34m,\u001b[0m \u001b[0;34m**\u001b[0m\u001b[0mkwargs\u001b[0m\u001b[0;34m)\u001b[0m  \u001b[0;31m# type: ignore[misc]\u001b[0m\u001b[0;34m\u001b[0m\u001b[0;34m\u001b[0m\u001b[0m\n\u001b[1;32m   1552\u001b[0m         \u001b[0;32melse\u001b[0m\u001b[0;34m:\u001b[0m\u001b[0;34m\u001b[0m\u001b[0;34m\u001b[0m\u001b[0m\n\u001b[0;32m-> 1553\u001b[0;31m             \u001b[0;32mreturn\u001b[0m \u001b[0mself\u001b[0m\u001b[0;34m.\u001b[0m\u001b[0m_call_impl\u001b[0m\u001b[0;34m(\u001b[0m\u001b[0;34m*\u001b[0m\u001b[0margs\u001b[0m\u001b[0;34m,\u001b[0m \u001b[0;34m**\u001b[0m\u001b[0mkwargs\u001b[0m\u001b[0;34m)\u001b[0m\u001b[0;34m\u001b[0m\u001b[0;34m\u001b[0m\u001b[0m\n\u001b[0m\u001b[1;32m   1554\u001b[0m \u001b[0;34m\u001b[0m\u001b[0m\n\u001b[1;32m   1555\u001b[0m     \u001b[0;32mdef\u001b[0m \u001b[0m_call_impl\u001b[0m\u001b[0;34m(\u001b[0m\u001b[0mself\u001b[0m\u001b[0;34m,\u001b[0m \u001b[0;34m*\u001b[0m\u001b[0margs\u001b[0m\u001b[0;34m,\u001b[0m \u001b[0;34m**\u001b[0m\u001b[0mkwargs\u001b[0m\u001b[0;34m)\u001b[0m\u001b[0;34m:\u001b[0m\u001b[0;34m\u001b[0m\u001b[0;34m\u001b[0m\u001b[0m\n",
            "\u001b[0;32m/usr/local/lib/python3.10/dist-packages/torch/nn/modules/module.py\u001b[0m in \u001b[0;36m_call_impl\u001b[0;34m(self, *args, **kwargs)\u001b[0m\n\u001b[1;32m   1560\u001b[0m                 \u001b[0;32mor\u001b[0m \u001b[0m_global_backward_pre_hooks\u001b[0m \u001b[0;32mor\u001b[0m \u001b[0m_global_backward_hooks\u001b[0m\u001b[0;34m\u001b[0m\u001b[0;34m\u001b[0m\u001b[0m\n\u001b[1;32m   1561\u001b[0m                 or _global_forward_hooks or _global_forward_pre_hooks):\n\u001b[0;32m-> 1562\u001b[0;31m             \u001b[0;32mreturn\u001b[0m \u001b[0mforward_call\u001b[0m\u001b[0;34m(\u001b[0m\u001b[0;34m*\u001b[0m\u001b[0margs\u001b[0m\u001b[0;34m,\u001b[0m \u001b[0;34m**\u001b[0m\u001b[0mkwargs\u001b[0m\u001b[0;34m)\u001b[0m\u001b[0;34m\u001b[0m\u001b[0;34m\u001b[0m\u001b[0m\n\u001b[0m\u001b[1;32m   1563\u001b[0m \u001b[0;34m\u001b[0m\u001b[0m\n\u001b[1;32m   1564\u001b[0m         \u001b[0;32mtry\u001b[0m\u001b[0;34m:\u001b[0m\u001b[0;34m\u001b[0m\u001b[0;34m\u001b[0m\u001b[0m\n",
            "\u001b[0;32m/usr/local/lib/python3.10/dist-packages/torchmetrics/metric.py\u001b[0m in \u001b[0;36mforward\u001b[0;34m(self, *args, **kwargs)\u001b[0m\n\u001b[1;32m    310\u001b[0m             \u001b[0mself\u001b[0m\u001b[0;34m.\u001b[0m\u001b[0m_forward_cache\u001b[0m \u001b[0;34m=\u001b[0m \u001b[0mself\u001b[0m\u001b[0;34m.\u001b[0m\u001b[0m_forward_full_state_update\u001b[0m\u001b[0;34m(\u001b[0m\u001b[0;34m*\u001b[0m\u001b[0margs\u001b[0m\u001b[0;34m,\u001b[0m \u001b[0;34m**\u001b[0m\u001b[0mkwargs\u001b[0m\u001b[0;34m)\u001b[0m\u001b[0;34m\u001b[0m\u001b[0;34m\u001b[0m\u001b[0m\n\u001b[1;32m    311\u001b[0m         \u001b[0;32melse\u001b[0m\u001b[0;34m:\u001b[0m\u001b[0;34m\u001b[0m\u001b[0;34m\u001b[0m\u001b[0m\n\u001b[0;32m--> 312\u001b[0;31m             \u001b[0mself\u001b[0m\u001b[0;34m.\u001b[0m\u001b[0m_forward_cache\u001b[0m \u001b[0;34m=\u001b[0m \u001b[0mself\u001b[0m\u001b[0;34m.\u001b[0m\u001b[0m_forward_reduce_state_update\u001b[0m\u001b[0;34m(\u001b[0m\u001b[0;34m*\u001b[0m\u001b[0margs\u001b[0m\u001b[0;34m,\u001b[0m \u001b[0;34m**\u001b[0m\u001b[0mkwargs\u001b[0m\u001b[0;34m)\u001b[0m\u001b[0;34m\u001b[0m\u001b[0;34m\u001b[0m\u001b[0m\n\u001b[0m\u001b[1;32m    313\u001b[0m \u001b[0;34m\u001b[0m\u001b[0m\n\u001b[1;32m    314\u001b[0m         \u001b[0;32mreturn\u001b[0m \u001b[0mself\u001b[0m\u001b[0;34m.\u001b[0m\u001b[0m_forward_cache\u001b[0m\u001b[0;34m\u001b[0m\u001b[0;34m\u001b[0m\u001b[0m\n",
            "\u001b[0;32m/usr/local/lib/python3.10/dist-packages/torchmetrics/metric.py\u001b[0m in \u001b[0;36m_forward_reduce_state_update\u001b[0;34m(self, *args, **kwargs)\u001b[0m\n\u001b[1;32m    379\u001b[0m \u001b[0;34m\u001b[0m\u001b[0m\n\u001b[1;32m    380\u001b[0m         \u001b[0;31m# calculate batch state and compute batch value\u001b[0m\u001b[0;34m\u001b[0m\u001b[0;34m\u001b[0m\u001b[0m\n\u001b[0;32m--> 381\u001b[0;31m         \u001b[0mself\u001b[0m\u001b[0;34m.\u001b[0m\u001b[0mupdate\u001b[0m\u001b[0;34m(\u001b[0m\u001b[0;34m*\u001b[0m\u001b[0margs\u001b[0m\u001b[0;34m,\u001b[0m \u001b[0;34m**\u001b[0m\u001b[0mkwargs\u001b[0m\u001b[0;34m)\u001b[0m\u001b[0;34m\u001b[0m\u001b[0;34m\u001b[0m\u001b[0m\n\u001b[0m\u001b[1;32m    382\u001b[0m         \u001b[0mbatch_val\u001b[0m \u001b[0;34m=\u001b[0m \u001b[0mself\u001b[0m\u001b[0;34m.\u001b[0m\u001b[0mcompute\u001b[0m\u001b[0;34m(\u001b[0m\u001b[0;34m)\u001b[0m\u001b[0;34m\u001b[0m\u001b[0;34m\u001b[0m\u001b[0m\n\u001b[1;32m    383\u001b[0m \u001b[0;34m\u001b[0m\u001b[0m\n",
            "\u001b[0;32m/usr/local/lib/python3.10/dist-packages/torchmetrics/metric.py\u001b[0m in \u001b[0;36mwrapped_func\u001b[0;34m(*args, **kwargs)\u001b[0m\n\u001b[1;32m    491\u001b[0m                             \u001b[0;34m\" device corresponds to the device of the input.\"\u001b[0m\u001b[0;34m\u001b[0m\u001b[0;34m\u001b[0m\u001b[0m\n\u001b[1;32m    492\u001b[0m                         ) from err\n\u001b[0;32m--> 493\u001b[0;31m                     \u001b[0;32mraise\u001b[0m \u001b[0merr\u001b[0m\u001b[0;34m\u001b[0m\u001b[0;34m\u001b[0m\u001b[0m\n\u001b[0m\u001b[1;32m    494\u001b[0m \u001b[0;34m\u001b[0m\u001b[0m\n\u001b[1;32m    495\u001b[0m             \u001b[0;32mif\u001b[0m \u001b[0mself\u001b[0m\u001b[0;34m.\u001b[0m\u001b[0mcompute_on_cpu\u001b[0m\u001b[0;34m:\u001b[0m\u001b[0;34m\u001b[0m\u001b[0;34m\u001b[0m\u001b[0m\n",
            "\u001b[0;32m/usr/local/lib/python3.10/dist-packages/torchmetrics/metric.py\u001b[0m in \u001b[0;36mwrapped_func\u001b[0;34m(*args, **kwargs)\u001b[0m\n\u001b[1;32m    481\u001b[0m             \u001b[0;32mwith\u001b[0m \u001b[0mtorch\u001b[0m\u001b[0;34m.\u001b[0m\u001b[0mset_grad_enabled\u001b[0m\u001b[0;34m(\u001b[0m\u001b[0mself\u001b[0m\u001b[0;34m.\u001b[0m\u001b[0m_enable_grad\u001b[0m\u001b[0;34m)\u001b[0m\u001b[0;34m:\u001b[0m\u001b[0;34m\u001b[0m\u001b[0;34m\u001b[0m\u001b[0m\n\u001b[1;32m    482\u001b[0m                 \u001b[0;32mtry\u001b[0m\u001b[0;34m:\u001b[0m\u001b[0;34m\u001b[0m\u001b[0;34m\u001b[0m\u001b[0m\n\u001b[0;32m--> 483\u001b[0;31m                     \u001b[0mupdate\u001b[0m\u001b[0;34m(\u001b[0m\u001b[0;34m*\u001b[0m\u001b[0margs\u001b[0m\u001b[0;34m,\u001b[0m \u001b[0;34m**\u001b[0m\u001b[0mkwargs\u001b[0m\u001b[0;34m)\u001b[0m\u001b[0;34m\u001b[0m\u001b[0;34m\u001b[0m\u001b[0m\n\u001b[0m\u001b[1;32m    484\u001b[0m                 \u001b[0;32mexcept\u001b[0m \u001b[0mRuntimeError\u001b[0m \u001b[0;32mas\u001b[0m \u001b[0merr\u001b[0m\u001b[0;34m:\u001b[0m\u001b[0;34m\u001b[0m\u001b[0;34m\u001b[0m\u001b[0m\n\u001b[1;32m    485\u001b[0m                     \u001b[0;32mif\u001b[0m \u001b[0;34m\"Expected all tensors to be on\"\u001b[0m \u001b[0;32min\u001b[0m \u001b[0mstr\u001b[0m\u001b[0;34m(\u001b[0m\u001b[0merr\u001b[0m\u001b[0;34m)\u001b[0m\u001b[0;34m:\u001b[0m\u001b[0;34m\u001b[0m\u001b[0;34m\u001b[0m\u001b[0m\n",
            "\u001b[0;32m/usr/local/lib/python3.10/dist-packages/torchmetrics/classification/stat_scores.py\u001b[0m in \u001b[0;36mupdate\u001b[0;34m(self, preds, target)\u001b[0m\n\u001b[1;32m    341\u001b[0m             )\n\u001b[1;32m    342\u001b[0m         \u001b[0mpreds\u001b[0m\u001b[0;34m,\u001b[0m \u001b[0mtarget\u001b[0m \u001b[0;34m=\u001b[0m \u001b[0m_multiclass_stat_scores_format\u001b[0m\u001b[0;34m(\u001b[0m\u001b[0mpreds\u001b[0m\u001b[0;34m,\u001b[0m \u001b[0mtarget\u001b[0m\u001b[0;34m,\u001b[0m \u001b[0mself\u001b[0m\u001b[0;34m.\u001b[0m\u001b[0mtop_k\u001b[0m\u001b[0;34m)\u001b[0m\u001b[0;34m\u001b[0m\u001b[0;34m\u001b[0m\u001b[0m\n\u001b[0;32m--> 343\u001b[0;31m         tp, fp, tn, fn = _multiclass_stat_scores_update(\n\u001b[0m\u001b[1;32m    344\u001b[0m             \u001b[0mpreds\u001b[0m\u001b[0;34m,\u001b[0m \u001b[0mtarget\u001b[0m\u001b[0;34m,\u001b[0m \u001b[0mself\u001b[0m\u001b[0;34m.\u001b[0m\u001b[0mnum_classes\u001b[0m\u001b[0;34m,\u001b[0m \u001b[0mself\u001b[0m\u001b[0;34m.\u001b[0m\u001b[0mtop_k\u001b[0m\u001b[0;34m,\u001b[0m \u001b[0mself\u001b[0m\u001b[0;34m.\u001b[0m\u001b[0maverage\u001b[0m\u001b[0;34m,\u001b[0m \u001b[0mself\u001b[0m\u001b[0;34m.\u001b[0m\u001b[0mmultidim_average\u001b[0m\u001b[0;34m,\u001b[0m \u001b[0mself\u001b[0m\u001b[0;34m.\u001b[0m\u001b[0mignore_index\u001b[0m\u001b[0;34m\u001b[0m\u001b[0;34m\u001b[0m\u001b[0m\n\u001b[1;32m    345\u001b[0m         )\n",
            "\u001b[0;32m/usr/local/lib/python3.10/dist-packages/torchmetrics/functional/classification/stat_scores.py\u001b[0m in \u001b[0;36m_multiclass_stat_scores_update\u001b[0;34m(preds, target, num_classes, top_k, average, multidim_average, ignore_index)\u001b[0m\n\u001b[1;32m    399\u001b[0m             \u001b[0mpreds\u001b[0m \u001b[0;34m=\u001b[0m \u001b[0mpreds\u001b[0m\u001b[0;34m[\u001b[0m\u001b[0midx\u001b[0m\u001b[0;34m]\u001b[0m\u001b[0;34m\u001b[0m\u001b[0;34m\u001b[0m\u001b[0m\n\u001b[1;32m    400\u001b[0m             \u001b[0mtarget\u001b[0m \u001b[0;34m=\u001b[0m \u001b[0mtarget\u001b[0m\u001b[0;34m[\u001b[0m\u001b[0midx\u001b[0m\u001b[0;34m]\u001b[0m\u001b[0;34m\u001b[0m\u001b[0;34m\u001b[0m\u001b[0m\n\u001b[0;32m--> 401\u001b[0;31m         \u001b[0mtp\u001b[0m \u001b[0;34m=\u001b[0m \u001b[0;34m(\u001b[0m\u001b[0mpreds\u001b[0m \u001b[0;34m==\u001b[0m \u001b[0mtarget\u001b[0m\u001b[0;34m)\u001b[0m\u001b[0;34m.\u001b[0m\u001b[0msum\u001b[0m\u001b[0;34m(\u001b[0m\u001b[0;34m)\u001b[0m\u001b[0;34m\u001b[0m\u001b[0;34m\u001b[0m\u001b[0m\n\u001b[0m\u001b[1;32m    402\u001b[0m         \u001b[0mfp\u001b[0m \u001b[0;34m=\u001b[0m \u001b[0;34m(\u001b[0m\u001b[0mpreds\u001b[0m \u001b[0;34m!=\u001b[0m \u001b[0mtarget\u001b[0m\u001b[0;34m)\u001b[0m\u001b[0;34m.\u001b[0m\u001b[0msum\u001b[0m\u001b[0;34m(\u001b[0m\u001b[0;34m)\u001b[0m\u001b[0;34m\u001b[0m\u001b[0;34m\u001b[0m\u001b[0m\n\u001b[1;32m    403\u001b[0m         \u001b[0mfn\u001b[0m \u001b[0;34m=\u001b[0m \u001b[0;34m(\u001b[0m\u001b[0mpreds\u001b[0m \u001b[0;34m!=\u001b[0m \u001b[0mtarget\u001b[0m\u001b[0;34m)\u001b[0m\u001b[0;34m.\u001b[0m\u001b[0msum\u001b[0m\u001b[0;34m(\u001b[0m\u001b[0;34m)\u001b[0m\u001b[0;34m\u001b[0m\u001b[0;34m\u001b[0m\u001b[0m\n",
            "\u001b[0;31mRuntimeError\u001b[0m: The size of tensor a (416) must match the size of tensor b (10000) at non-singleton dimension 0"
          ]
        }
      ]
    },
    {
      "cell_type": "markdown",
      "source": [
        "#AdaGrad"
      ],
      "metadata": {
        "id": "qpkFM8rr745B"
      }
    },
    {
      "cell_type": "code",
      "source": [
        "opt = th.optim.Adam(net.parameters(), lr=0.001)"
      ],
      "metadata": {
        "id": "m9pz0s029Bz1"
      },
      "execution_count": 12,
      "outputs": []
    },
    {
      "cell_type": "code",
      "source": [
        "batch_size = 64 # размер батча\n",
        "epochs = 40 #количество эпох\n",
        "\n",
        "train_losses = []\n",
        "test_losses = []\n",
        "\n",
        "'''данные тренировочной выборки будем перекладывать на cuda по батчам'''\n",
        "for epoch in range(epochs):\n",
        "  test_preds = net.forward(X_test)\n",
        "  test_losses.append(loss(test_preds, y_test).cpu().detach().numpy())\n",
        "\n",
        "  order = np.random.permutation(len(X_train))\n",
        "  for start_index in range (0,len(X_train), batch_size):\n",
        "    #Ваш_Код_Здесь\n",
        "    #далее вырезаем куски датасета длинной batch_size\n",
        "    opt.zero_grad()\n",
        "\n",
        "    batch_index = order[start_index:start_index+batch_size]#из этого порядка вычисляем некоторые подмножества\n",
        "    #начиная с start_index, который будет 0, 10, 20 и тд. + batch_size\n",
        "    #то есть batch_index - это индексы, которые соотвествуют текущему батчу\n",
        "    #таким образом мы в эпохе проходим все значения в датасете, но итерация обучения происходит по 10 элементам\n",
        "\n",
        "    X_batch = X_train[batch_index]\n",
        "    y_batch = y_train[batch_index]\n",
        "\n",
        "    preds = net.forward(X_batch)\n",
        "    loss_val = loss(preds, y_batch)\n",
        "    if start_index==0:\n",
        "      train_losses.append(loss_val.cpu().detach().numpy())\n",
        "    loss_val.backward()\n",
        "\n",
        "    opt.step()\n",
        "\n",
        "\n",
        "  #test_preds = net.forward(X_test)\n",
        "  #test_losses.append(loss(test_preds, y_test).cpu().detach().numpy())\n",
        "\n",
        "  if epoch % 10 == 0:\n",
        "    test_preds = net.forward(X_test)\n",
        "    test_losses.append(loss(test_preds, y_test).cpu().detach().numpy())\n",
        "    test_preds = test_preds.argmax(dim=1)\n",
        "    print((test_preds == y_test).float().mean())"
      ],
      "metadata": {
        "id": "2hd8iNXoJibM",
        "colab": {
          "base_uri": "https://localhost:8080/"
        },
        "outputId": "a11e1a87-fe37-4c84-dee7-90618be04d8d"
      },
      "execution_count": 13,
      "outputs": [
        {
          "output_type": "stream",
          "name": "stdout",
          "text": [
            "tensor(0.6285)\n",
            "tensor(0.5519)\n",
            "tensor(0.6692)\n",
            "tensor(0.6156)\n"
          ]
        }
      ]
    },
    {
      "cell_type": "markdown",
      "source": [
        "#RMSProp"
      ],
      "metadata": {
        "id": "pRnTgH2_79Z8"
      }
    },
    {
      "cell_type": "code",
      "source": [
        "opt = th.optim.Adam(net.parameters(), lr=0.001)"
      ],
      "metadata": {
        "id": "AOr2wQqD9CTb"
      },
      "execution_count": 14,
      "outputs": []
    },
    {
      "cell_type": "code",
      "source": [
        "batch_size = 64 # размер батча\n",
        "epochs = 10 #количество эпох\n",
        "\n",
        "train_losses = []\n",
        "test_losses = []\n",
        "\n",
        "'''данные тренировочной выборки будем перекладывать на cuda по батчам'''\n",
        "for epoch in range(epochs):\n",
        "  test_preds = net.forward(X_test)\n",
        "  test_losses.append(loss(test_preds, y_test).cpu().detach().numpy())\n",
        "\n",
        "  order = np.random.permutation(len(X_train))\n",
        "  for start_index in range (0,len(X_train), batch_size):\n",
        "    #Ваш_Код_Здесь\n",
        "    #далее вырезаем куски датасета длинной batch_size\n",
        "    opt.zero_grad()\n",
        "\n",
        "    batch_index = order[start_index:start_index+batch_size]#из этого порядка вычисляем некоторые подмножества\n",
        "    #начиная с start_index, который будет 0, 10, 20 и тд. + batch_size\n",
        "    #то есть batch_index - это индексы, которые соотвествуют текущему батчу\n",
        "    #таким образом мы в эпохе проходим все значения в датасете, но итерация обучения происходит по 10 элементам\n",
        "\n",
        "    X_batch = X_train[batch_index]\n",
        "    y_batch = y_train[batch_index]\n",
        "\n",
        "    preds = net.forward(X_batch)\n",
        "    loss_val = loss(preds, y_batch)\n",
        "    if start_index==0:\n",
        "      train_losses.append(loss_val.cpu().detach().numpy())\n",
        "    loss_val.backward()\n",
        "\n",
        "    opt.step()\n",
        "\n",
        "\n",
        "  #test_preds = net.forward(X_test)\n",
        "  #test_losses.append(loss(test_preds, y_test).cpu().detach().numpy())\n",
        "\n",
        "  if epoch % 10 == 0:\n",
        "    test_preds = net.forward(X_test)\n",
        "    test_losses.append(loss(test_preds, y_test).cpu().detach().numpy())\n",
        "    test_preds = test_preds.argmax(dim=1)\n",
        "    print((test_preds == y_test).float().mean())"
      ],
      "metadata": {
        "id": "tBwlXgTDJi-e",
        "colab": {
          "base_uri": "https://localhost:8080/"
        },
        "outputId": "ac8fdd40-605c-4935-e101-b2443a17bc6a"
      },
      "execution_count": 15,
      "outputs": [
        {
          "output_type": "stream",
          "name": "stdout",
          "text": [
            "tensor(0.6881)\n"
          ]
        }
      ]
    },
    {
      "cell_type": "code",
      "source": [
        "train_losses = [float(i) for i in train_losses]\n",
        "test_losses = [float(i) for i in test_losses]\n",
        "x1 = np.arange(1, len(train_losses) + 1)\n",
        "x2 = np.arange(1, len(test_losses) + 1)\n",
        "\n",
        "plt.plot(x1, train_losses, label='train loss')\n",
        "plt.plot(x2, test_losses, label='test loss')\n",
        "plt.title('Model loss')\n",
        "plt.legend()\n",
        "plt.show()"
      ],
      "metadata": {
        "id": "TmKQ56Q3Jpgl",
        "colab": {
          "base_uri": "https://localhost:8080/",
          "height": 452
        },
        "outputId": "256d6c90-90d6-49a6-be04-3424057525db"
      },
      "execution_count": 16,
      "outputs": [
        {
          "output_type": "display_data",
          "data": {
            "text/plain": [
              "<Figure size 640x480 with 1 Axes>"
            ],
            "image/png": "[encoded data removed]"
          },
          "metadata": {}
        }
      ]
    },
    {
      "cell_type": "markdown",
      "source": [
        "#Adam"
      ],
      "metadata": {
        "id": "mtV0Yi5Q8BO5"
      }
    },
    {
      "cell_type": "code",
      "source": [
        "opt = th.optim.Adam(net.parameters(), lr=0.001)"
      ],
      "metadata": {
        "id": "iPO1s57D9Cr6"
      },
      "execution_count": 17,
      "outputs": []
    },
    {
      "cell_type": "code",
      "source": [
        "batch_size = 64 # размер батча\n",
        "epochs = 40 #количество эпох\n",
        "\n",
        "train_losses = []\n",
        "test_losses = []\n",
        "\n",
        "'''данные тренировочной выборки будем перекладывать на cuda по батчам'''\n",
        "for epoch in range(epochs):\n",
        "  test_preds = net.forward(X_test)\n",
        "  test_losses.append(loss(test_preds, y_test).cpu().detach().numpy())\n",
        "\n",
        "  order = np.random.permutation(len(X_train))\n",
        "  for start_index in range (0,len(X_train), batch_size):\n",
        "    #Ваш_Код_Здесь\n",
        "    #далее вырезаем куски датасета длинной batch_size\n",
        "    opt.zero_grad()\n",
        "\n",
        "    batch_index = order[start_index:start_index+batch_size]#из этого порядка вычисляем некоторые подмножества\n",
        "    #начиная с start_index, который будет 0, 10, 20 и тд. + batch_size\n",
        "    #то есть batch_index - это индексы, которые соотвествуют текущему батчу\n",
        "    #таким образом мы в эпохе проходим все значения в датасете, но итерация обучения происходит по 10 элементам\n",
        "\n",
        "    X_batch = X_train[batch_index]\n",
        "    y_batch = y_train[batch_index]\n",
        "\n",
        "    preds = net.forward(X_batch)\n",
        "    loss_val = loss(preds, y_batch)\n",
        "    if start_index==0:\n",
        "      train_losses.append(loss_val.cpu().detach().numpy())\n",
        "    loss_val.backward()\n",
        "\n",
        "    opt.step()\n",
        "\n",
        "\n",
        "  #test_preds = net.forward(X_test)\n",
        "  #test_losses.append(loss(test_preds, y_test).cpu().detach().numpy())\n",
        "\n",
        "  if epoch % 10 == 0:\n",
        "    test_preds = net.forward(X_test)\n",
        "    test_losses.append(loss(test_preds, y_test).cpu().detach().numpy())\n",
        "    test_preds = test_preds.argmax(dim=1)\n",
        "    print((test_preds == y_test).float().mean())"
      ],
      "metadata": {
        "id": "HaO6EqKKJjuA",
        "colab": {
          "base_uri": "https://localhost:8080/"
        },
        "outputId": "36995cb4-1408-45a2-93e9-9e335d28f7e6"
      },
      "execution_count": 18,
      "outputs": [
        {
          "output_type": "stream",
          "name": "stdout",
          "text": [
            "tensor(0.6401)\n",
            "tensor(0.6682)\n",
            "tensor(0.6878)\n",
            "tensor(0.6709)\n"
          ]
        }
      ]
    },
    {
      "cell_type": "markdown",
      "source": [],
      "metadata": {
        "id": "v4eke4ry8E3I"
      }
    }
  ]
}