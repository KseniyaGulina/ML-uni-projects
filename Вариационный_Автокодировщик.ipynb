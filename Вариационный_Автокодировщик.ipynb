{
  "cells": [
    {
      "cell_type": "code",
      "execution_count": null,
      "metadata": {
        "id": "xYJ1rkNm2x75"
      },
      "outputs": [],
      "source": [
        "import torch\n",
        "\n",
        "import torch.optim as optim\n",
        "from itertools import chain\n",
        "\n",
        "from torch.utils.data import DataLoader, TensorDataset, Dataset\n",
        "\n",
        "from torchsummary import summary\n",
        "from matplotlib import pyplot as plt\n",
        "\n",
        "import pandas as pd\n",
        "import numpy as np\n",
        "import random\n",
        "\n",
        "random.seed(0)\n",
        "np.random.seed(0)\n",
        "torch.cuda.manual_seed(0)\n",
        "torch.backends.cudnn.deterministic = True\n",
        "\n",
        "import torchvision.datasets\n",
        "import torchvision.transforms as tr"
      ]
    },
    {
      "cell_type": "code",
      "execution_count": null,
      "metadata": {
        "id": "0ltVt7Q0CrxV",
        "colab": {
          "base_uri": "https://localhost:8080/"
        },
        "outputId": "451dc247-eaaf-44bd-ab03-a1aa0ff61a8e"
      },
      "outputs": [
        {
          "output_type": "stream",
          "name": "stdout",
          "text": [
            "Downloading http://yann.lecun.com/exdb/mnist/train-images-idx3-ubyte.gz\n",
            "Failed to download (trying next):\n",
            "HTTP Error 403: Forbidden\n",
            "\n",
            "Downloading https://ossci-datasets.s3.amazonaws.com/mnist/train-images-idx3-ubyte.gz\n",
            "Downloading https://ossci-datasets.s3.amazonaws.com/mnist/train-images-idx3-ubyte.gz to ./MNIST/raw/train-images-idx3-ubyte.gz\n"
          ]
        },
        {
          "output_type": "stream",
          "name": "stderr",
          "text": [
            "100%|██████████| 9912422/9912422 [00:00<00:00, 35211899.80it/s]\n"
          ]
        },
        {
          "output_type": "stream",
          "name": "stdout",
          "text": [
            "Extracting ./MNIST/raw/train-images-idx3-ubyte.gz to ./MNIST/raw\n",
            "\n",
            "Downloading http://yann.lecun.com/exdb/mnist/train-labels-idx1-ubyte.gz\n",
            "Failed to download (trying next):\n",
            "HTTP Error 403: Forbidden\n",
            "\n",
            "Downloading https://ossci-datasets.s3.amazonaws.com/mnist/train-labels-idx1-ubyte.gz\n",
            "Downloading https://ossci-datasets.s3.amazonaws.com/mnist/train-labels-idx1-ubyte.gz to ./MNIST/raw/train-labels-idx1-ubyte.gz\n"
          ]
        },
        {
          "output_type": "stream",
          "name": "stderr",
          "text": [
            "100%|██████████| 28881/28881 [00:00<00:00, 1085192.46it/s]"
          ]
        },
        {
          "output_type": "stream",
          "name": "stdout",
          "text": [
            "Extracting ./MNIST/raw/train-labels-idx1-ubyte.gz to ./MNIST/raw\n",
            "\n",
            "Downloading http://yann.lecun.com/exdb/mnist/t10k-images-idx3-ubyte.gz\n"
          ]
        },
        {
          "output_type": "stream",
          "name": "stderr",
          "text": [
            "\n"
          ]
        },
        {
          "output_type": "stream",
          "name": "stdout",
          "text": [
            "Failed to download (trying next):\n",
            "HTTP Error 403: Forbidden\n",
            "\n",
            "Downloading https://ossci-datasets.s3.amazonaws.com/mnist/t10k-images-idx3-ubyte.gz\n",
            "Downloading https://ossci-datasets.s3.amazonaws.com/mnist/t10k-images-idx3-ubyte.gz to ./MNIST/raw/t10k-images-idx3-ubyte.gz\n"
          ]
        },
        {
          "output_type": "stream",
          "name": "stderr",
          "text": [
            "100%|██████████| 1648877/1648877 [00:00<00:00, 9700238.02it/s]\n"
          ]
        },
        {
          "output_type": "stream",
          "name": "stdout",
          "text": [
            "Extracting ./MNIST/raw/t10k-images-idx3-ubyte.gz to ./MNIST/raw\n",
            "\n",
            "Downloading http://yann.lecun.com/exdb/mnist/t10k-labels-idx1-ubyte.gz\n",
            "Failed to download (trying next):\n",
            "HTTP Error 403: Forbidden\n",
            "\n",
            "Downloading https://ossci-datasets.s3.amazonaws.com/mnist/t10k-labels-idx1-ubyte.gz\n",
            "Downloading https://ossci-datasets.s3.amazonaws.com/mnist/t10k-labels-idx1-ubyte.gz to ./MNIST/raw/t10k-labels-idx1-ubyte.gz\n"
          ]
        },
        {
          "output_type": "stream",
          "name": "stderr",
          "text": [
            "100%|██████████| 4542/4542 [00:00<00:00, 9011603.01it/s]"
          ]
        },
        {
          "output_type": "stream",
          "name": "stdout",
          "text": [
            "Extracting ./MNIST/raw/t10k-labels-idx1-ubyte.gz to ./MNIST/raw\n",
            "\n"
          ]
        },
        {
          "output_type": "stream",
          "name": "stderr",
          "text": [
            "\n"
          ]
        }
      ],
      "source": [
        "MNIST_train=torchvision.datasets.MNIST('./', download = True, train = True)\n",
        "MNIST_test=torchvision.datasets.MNIST('./', download = True, train = False)"
      ]
    },
    {
      "cell_type": "code",
      "execution_count": null,
      "metadata": {
        "id": "PRJjR9x6CsOe",
        "colab": {
          "base_uri": "https://localhost:8080/"
        },
        "outputId": "34420807-0589-45d4-ccbd-b625732a7835"
      },
      "outputs": [
        {
          "output_type": "stream",
          "name": "stderr",
          "text": [
            "/usr/local/lib/python3.10/dist-packages/torchvision/datasets/mnist.py:75: UserWarning: train_data has been renamed data\n",
            "  warnings.warn(\"train_data has been renamed data\")\n"
          ]
        }
      ],
      "source": [
        "X_train = MNIST_train.train_data/255\n",
        "X_test = MNIST_test.train_data/255\n",
        "\n",
        "X_train=X_train.to(torch.float32)\n",
        "X_test=X_test.to(torch.float32)"
      ]
    },
    {
      "cell_type": "code",
      "execution_count": null,
      "metadata": {
        "id": "AT-geNX2mW-s"
      },
      "outputs": [],
      "source": [
        "class Encoder(torch.nn.Module):\n",
        "    def __init__(self, latent_size):\n",
        "        super().__init__()\n",
        "\n",
        "        self.conv1 = torch.nn.Conv2d(in_channels=1, out_channels=32, kernel_size=3, stride=1,padding=1)\n",
        "        self.act1 = torch.nn.ReLU()\n",
        "        self.pool1 = torch.nn.MaxPool2d(kernel_size=2, stride=2)\n",
        "        self.conv2 = torch.nn.Conv2d(in_channels=32, out_channels=32, kernel_size=3, stride=1,padding=1)\n",
        "        self.act2 = torch.nn.ReLU()\n",
        "        self.pool2 = torch.nn.MaxPool2d(kernel_size=2, stride=2)\n",
        "\n",
        "        self.linear = torch.nn.Linear(7*7,latent_size)\n",
        "        self.act3 = torch.nn.ReLU()\n",
        "\n",
        "        self.fc_mu = torch.nn.Linear(latent_size, latent_size) #формирование вектора мат ожиданий\n",
        "        self.fc_log_var = torch.nn.Linear(latent_size, latent_size) #формирование вектора логарифма дисперсий\n",
        "\n",
        "        self.latent_size = latent_size\n",
        "\n",
        "    def forward(self, x):\n",
        "        # ВАШ КОД ЗДЕСЬ\n",
        "        #print(\"Start\", x.size())\n",
        "        x = self.act1(self.conv1(x))\n",
        "        #print(\"Conv1\",x.size())\n",
        "        x = self.pool1(x)\n",
        "        #print(\"pool\",x.size())\n",
        "        x = self.act2(self.conv2(x))\n",
        "        #print('conv2', x.size())\n",
        "        x = self.pool2(x)\n",
        "        #print(\"pool\",x.size())\n",
        "\n",
        "        #x = x.reshape(-1, self.latent_size) #делаем reshape, чтобы из сверточного слоя в полносвязку передать вектора\n",
        "        #x = torch.flatten(x, start_dim=1)\n",
        "        x = x.reshape((x.shape[0], -1))\n",
        "\n",
        "        x = self.act3(self.linear(x))\n",
        "        #print(x)\n",
        "\n",
        "        mu = self.fc_mu(x)\n",
        "        log_var = self.fc_log_var(x)\n",
        "        return mu, log_var #результат энкодера -- это вектор средних и вектор дисперсий\n",
        "\n",
        "    def sample_latent(self, x): #получаем вектор скрытого состояния Z\n",
        "        mu, log_var = self.forward(x) #получае вектора средних и дисперсий\n",
        "        #print(mu, log_var)\n",
        "\n",
        "        #torch.randn_like(input) Возвращает тензор случайных чисел из стандартного нормального распределения того же размера, что и input\n",
        "        N = torch.randn_like(mu).to(device)\n",
        "\n",
        "        #дисперсия у нас возвращается в логарифме, а умножить нам надо на стандартное отклонение\n",
        "        #тогда нужно /2, степень уходит и взять экспоненту, получим просто стандартное отклонение\n",
        "        return torch.exp(log_var/2) * N + mu, mu, log_var"
      ]
    },
    {
      "cell_type": "code",
      "execution_count": null,
      "metadata": {
        "id": "HgZuu_GCmXA9"
      },
      "outputs": [],
      "source": [
        "class Decoder(torch.nn.Module):\n",
        "    def __init__(self, latent_size):\n",
        "        super().__init__()\n",
        "\n",
        "        self.deconv1 = torch.nn.ConvTranspose2d(in_channels=32, out_channels=32, kernel_size=2,stride=2)\n",
        "        self.act1 = torch.nn.ReLU()\n",
        "        self.deconv2 = torch.nn.ConvTranspose2d(in_channels=32, out_channels=32, kernel_size=2,stride=2)\n",
        "        self.act2 = torch.nn.ReLU()\n",
        "        self.conv = torch.nn.Conv2d(in_channels=32, out_channels=1, kernel_size=3,stride=1,padding=1)\n",
        "        self.act3 = torch.nn.Sigmoid() # А ПОЧЕМУ??\n",
        "\n",
        "\n",
        "        self.linear2 = torch.nn.Linear(latent_size, 300)\n",
        "        self.linear3 = torch.nn.Linear(300,7*7)\n",
        "\n",
        "    def forward(self, x):\n",
        "\n",
        "\n",
        "        #print(x.size())\n",
        "        x = self.act2(self.linear2(x))\n",
        "        #print(x)\n",
        "        x = self.act2(self.linear3(x))\n",
        "        #print(x)\n",
        "        x = x.reshape((x.shape[0], 7, 7))\n",
        "        #print(x)\n",
        "\n",
        "\n",
        "        #print(\"Start\", x.size())\n",
        "        x = self.act1(self.deconv1(x))\n",
        "        #print(\"deconv1\",x.size())\n",
        "        x = self.act3(self.deconv2(x))\n",
        "        #print(\"deconv1\",x.size())\n",
        "        x = self.act3(self.conv(x))\n",
        "        #print(\"conv\",x.size())\n",
        "\n",
        "        return x\n"
      ]
    },
    {
      "cell_type": "code",
      "execution_count": null,
      "metadata": {
        "id": "_fp_FrT9pFn-"
      },
      "outputs": [],
      "source": [
        "def train_ae(data_loader, encoder, decoder, epochs, lr, device):\n",
        "    print('Обучение автокодировщика..')\n",
        "\n",
        "    encoder.train()\n",
        "    decoder.train()\n",
        "\n",
        "    recon_loss_func = torch.nn.MSELoss()\n",
        "\n",
        "    #kl_loss_func = torch.nn.KLDivLoss(reduction=\"batchmean\")\n",
        "\n",
        "    def kl_loss_func(mu, logvar):\n",
        "        return -0.5 * torch.sum(1 + logvar - mu.pow(2) - logvar.exp())\n",
        "\n",
        "    optimizer = optim.Adam(chain(encoder.parameters(), decoder.parameters()), lr=lr)\n",
        "\n",
        "    loss_history = list()\n",
        "    loss=0\n",
        "    for epoch in range(epochs):\n",
        "        for i, batch in enumerate(data_loader):\n",
        "\n",
        "            optimizer.zero_grad()\n",
        "\n",
        "            #прямой проход через кодер и получение вектора Z, вектора средних и вектора дисперсий\n",
        "            latent_vector, mu, log_sigma = encoder.sample_latent(batch)\n",
        "\n",
        "            #получение ошибки MSE\n",
        "            #print(latent_vector.size())\n",
        "            recon_loss = recon_loss_func(decoder(latent_vector), batch)\n",
        "\n",
        "            #получение ошибки KL\n",
        "            kl_loss = kl_loss_func(mu, log_sigma)\n",
        "            loss = kl_loss + 1000 * recon_loss # можно поварьировать балансировочный коэффициент\n",
        "\n",
        "            #recon_loss.backward()\n",
        "            #kl_loss.backward()\n",
        "            loss.backward()\n",
        "            #print(\"AAAAAAAAAAAAA\", kl_loss)\n",
        "\n",
        "            optimizer.step()\n",
        "\n",
        "            #if i % 10000 == 0:\n",
        "            #    print('Потери восстановления:', recon_loss) #.item()\n",
        "            #    print('Потери расхождения распределений:', kl_loss)\n",
        "\n",
        "            loss_history.append(loss.log().item())\n",
        "\n",
        "        print(f'Эпоха {epoch + 1} / {epochs}. Потери на последнем пакете: {loss.item()}')\n",
        "\n",
        "    encoder.eval()\n",
        "    decoder.eval()\n",
        "\n",
        "    print('Готово!')\n",
        "\n",
        "    plt.plot(loss_history)\n",
        "    plt.show()"
      ]
    },
    {
      "cell_type": "code",
      "execution_count": null,
      "metadata": {
        "colab": {
          "base_uri": "https://localhost:8080/",
          "height": 638
        },
        "id": "ixq1DQFipFuZ",
        "outputId": "8089416f-28b2-442b-a41c-e9ecb535b864"
      },
      "outputs": [
        {
          "output_type": "stream",
          "name": "stdout",
          "text": [
            "Обучение автокодировщика..\n",
            "Эпоха 1 / 10. Потери на последнем пакете: 91.34929656982422\n",
            "Эпоха 2 / 10. Потери на последнем пакете: 59.46150207519531\n",
            "Эпоха 3 / 10. Потери на последнем пакете: 64.04937744140625\n",
            "Эпоха 4 / 10. Потери на последнем пакете: 63.63117980957031\n",
            "Эпоха 5 / 10. Потери на последнем пакете: 31.426639556884766\n",
            "Эпоха 6 / 10. Потери на последнем пакете: 74.54393005371094\n",
            "Эпоха 7 / 10. Потери на последнем пакете: 59.293853759765625\n",
            "Эпоха 8 / 10. Потери на последнем пакете: 40.334442138671875\n",
            "Эпоха 9 / 10. Потери на последнем пакете: 44.86417007446289\n",
            "Эпоха 10 / 10. Потери на последнем пакете: 95.11438751220703\n",
            "Готово!\n"
          ]
        },
        {
          "output_type": "display_data",
          "data": {
            "text/plain": [
              "<Figure size 640x480 with 1 Axes>"
            ],
            "image/png": "[encoded data removed]"
          },
          "metadata": {}
        }
      ],
      "source": [
        "LATENT_SIZE = 32# размерность скрытого пространства\n",
        "\n",
        "BATCH_SIZE =256 # ?\n",
        "EPOCHS = 10# ?\n",
        "LEARNING_RATE = 0.0001# ?\n",
        "\n",
        "device = 'cuda' if torch.cuda.is_available() else 'cpu'\n",
        "\n",
        "#загрузить выбраные данные\n",
        "#создать dataloader\n",
        "train_data_loader = DataLoader(X_train.to(device), shuffle=True)#????\n",
        "\n",
        "encoder = Encoder(LATENT_SIZE).to(device)\n",
        "decoder = Decoder(LATENT_SIZE).to(device)\n",
        "\n",
        "train_ae(train_data_loader, encoder, decoder, EPOCHS, LEARNING_RATE, device)"
      ]
    },
    {
      "cell_type": "markdown",
      "metadata": {
        "id": "Hi1817QgPsnM"
      },
      "source": []
    },
    {
      "cell_type": "code",
      "execution_count": null,
      "metadata": {
        "id": "rFaHlTjvLF-S"
      },
      "outputs": [],
      "source": [
        "#сгенерировать новые объекты\n",
        "#взять вектор из стандартного нормального распределения (torch.randn()) и отравить в декодер"
      ]
    },
    {
      "cell_type": "code",
      "execution_count": null,
      "metadata": {
        "colab": {
          "base_uri": "https://localhost:8080/"
        },
        "id": "P5JFq63nMwhG",
        "outputId": "01c319c9-4440-427b-d7cd-1c22881c152b"
      },
      "outputs": [
        {
          "output_type": "stream",
          "name": "stdout",
          "text": [
            "tensor([[-0.6325,  0.4713,  1.0972,  ...,  1.3069, -1.1530,  0.0366],\n",
            "        [ 0.7715, -0.7638,  0.4547,  ...,  1.1677, -2.3372,  0.2118],\n",
            "        [ 1.3174,  2.0523,  1.0683,  ...,  3.5773, -0.2123, -1.7293],\n",
            "        ...,\n",
            "        [-0.3954,  0.0050, -1.2248,  ...,  0.5090, -1.6978,  0.4947],\n",
            "        [ 1.4462, -1.2809,  0.3642,  ...,  0.0150, -2.0771, -0.4234],\n",
            "        [ 1.3748, -0.6769, -1.4560,  ..., -0.0038,  0.7429, -0.5606]],\n",
            "       device='cuda:0')\n"
          ]
        },
        {
          "output_type": "display_data",
          "data": {
            "text/plain": [
              "<Figure size 640x480 with 1 Axes>"
            ],
            "image/png": "[encoded data removed]"
          },
          "metadata": {}
        },
        {
          "output_type": "execute_result",
          "data": {
            "text/plain": [
              "<matplotlib.image.AxesImage at 0x782a70234df0>"
            ]
          },
          "metadata": {},
          "execution_count": 10
        },
        {
          "output_type": "display_data",
          "data": {
            "text/plain": [
              "<Figure size 640x480 with 1 Axes>"
            ],
            "image/png": "[encoded data removed]"
          },
          "metadata": {}
        }
      ],
      "source": [
        "x = torch.randn(32, 32)\n",
        "x = x.to(device)\n",
        "print(x)\n",
        "samples = decoder(x)\n",
        "plt.imshow(x.to(torch.device('cpu')).detach().numpy(), cmap='gray')\n",
        "plt.show()\n",
        "plt.imshow(samples.to(torch.device('cpu')).detach().numpy()[0], cmap='gray')"
      ]
    }
  ],
  "metadata": {
    "accelerator": "GPU",
    "colab": {
      "provenance": []
    },
    "gpuClass": "standard",
    "kernelspec": {
      "display_name": "Python 3",
      "name": "python3"
    },
    "language_info": {
      "name": "python"
    }
  },
  "nbformat": 4,
  "nbformat_minor": 0
}